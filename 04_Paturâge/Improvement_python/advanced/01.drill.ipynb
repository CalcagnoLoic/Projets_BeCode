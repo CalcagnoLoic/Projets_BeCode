{
 "cells": [
  {
   "cell_type": "markdown",
   "metadata": {},
   "source": [
    "# Drill - Threading\n",
    "\n"
   ]
  },
  {
   "cell_type": "markdown",
   "metadata": {},
   "source": [
    "### Exercise 1\n",
    "In the data folder, you have 10 files that contain Shakespears sonnets. You have to gather all these files into one file data_all.txt using threads. Be careful, the sonnets must appear in order."
   ]
  },
  {
   "cell_type": "code",
   "execution_count": 5,
   "metadata": {},
   "outputs": [
    {
     "name": "stdout",
     "output_type": "stream",
     "text": [
      "\n"
     ]
    },
    {
     "ename": "FileNotFoundError",
     "evalue": "[Errno 2] No such file or directory: '../data/data_part_1.txt'",
     "output_type": "error",
     "traceback": [
      "\u001b[1;31m---------------------------------------------------------------------------\u001b[0m",
      "\u001b[1;31mFileNotFoundError\u001b[0m                         Traceback (most recent call last)",
      "\u001b[1;32mc:\\Users\\loic8\\Bureau\\Formations\\BeCode\\04. Summers_pastures\\Python\\Improvement_python\\advanced\\01.drill.ipynb Cell 3'\u001b[0m in \u001b[0;36m<cell line: 14>\u001b[1;34m()\u001b[0m\n\u001b[0;32m     <a href='vscode-notebook-cell:/c%3A/Users/loic8/Bureau/Formations/BeCode/04.%20Summers_pastures/Python/Improvement_python/advanced/01.drill.ipynb#ch0000002?line=10'>11</a>\u001b[0m             file\u001b[39m.\u001b[39mwrite(\u001b[39mself\u001b[39m\u001b[39m.\u001b[39mtext)\n\u001b[0;32m     <a href='vscode-notebook-cell:/c%3A/Users/loic8/Bureau/Formations/BeCode/04.%20Summers_pastures/Python/Improvement_python/advanced/01.drill.ipynb#ch0000002?line=12'>13</a>\u001b[0m data_1 \u001b[39m=\u001b[39m MyThread(\u001b[39m\"\u001b[39m\u001b[39m\"\u001b[39m)\n\u001b[1;32m---> <a href='vscode-notebook-cell:/c%3A/Users/loic8/Bureau/Formations/BeCode/04.%20Summers_pastures/Python/Improvement_python/advanced/01.drill.ipynb#ch0000002?line=13'>14</a>\u001b[0m data_1\u001b[39m.\u001b[39;49mrun()\n",
      "\u001b[1;32mc:\\Users\\loic8\\Bureau\\Formations\\BeCode\\04. Summers_pastures\\Python\\Improvement_python\\advanced\\01.drill.ipynb Cell 3'\u001b[0m in \u001b[0;36mMyThread.run\u001b[1;34m(self)\u001b[0m\n\u001b[0;32m      <a href='vscode-notebook-cell:/c%3A/Users/loic8/Bureau/Formations/BeCode/04.%20Summers_pastures/Python/Improvement_python/advanced/01.drill.ipynb#ch0000002?line=7'>8</a>\u001b[0m \u001b[39mdef\u001b[39;00m \u001b[39mrun\u001b[39m(\u001b[39mself\u001b[39m):\n\u001b[0;32m      <a href='vscode-notebook-cell:/c%3A/Users/loic8/Bureau/Formations/BeCode/04.%20Summers_pastures/Python/Improvement_python/advanced/01.drill.ipynb#ch0000002?line=8'>9</a>\u001b[0m     \u001b[39mprint\u001b[39m(\u001b[39mself\u001b[39m\u001b[39m.\u001b[39mtext)\n\u001b[1;32m---> <a href='vscode-notebook-cell:/c%3A/Users/loic8/Bureau/Formations/BeCode/04.%20Summers_pastures/Python/Improvement_python/advanced/01.drill.ipynb#ch0000002?line=9'>10</a>\u001b[0m     \u001b[39mwith\u001b[39;00m \u001b[39mopen\u001b[39;49m(\u001b[39m'\u001b[39;49m\u001b[39m../data/data_part_1.txt\u001b[39;49m\u001b[39m'\u001b[39;49m, \u001b[39m'\u001b[39;49m\u001b[39mr\u001b[39;49m\u001b[39m'\u001b[39;49m) \u001b[39mas\u001b[39;00m file:\n\u001b[0;32m     <a href='vscode-notebook-cell:/c%3A/Users/loic8/Bureau/Formations/BeCode/04.%20Summers_pastures/Python/Improvement_python/advanced/01.drill.ipynb#ch0000002?line=10'>11</a>\u001b[0m         file\u001b[39m.\u001b[39mwrite(\u001b[39mself\u001b[39m\u001b[39m.\u001b[39mtext)\n",
      "\u001b[1;31mFileNotFoundError\u001b[0m: [Errno 2] No such file or directory: '../data/data_part_1.txt'"
     ]
    }
   ],
   "source": [
    "from threading import Thread\n",
    "\n",
    "class MyThread(Thread):\n",
    "    def __init__(self,text):\n",
    "        Thread.__init__(self)\n",
    "        self.text = text\n",
    "    \n",
    "    def run(self):\n",
    "        print(self.text)\n",
    "        with open('../data/data_part_1.txt', 'r') as file:\n",
    "            file.write(self.text)\n",
    "\n",
    "data_1 = MyThread(\"\")\n",
    "data_1.run()"
   ]
  },
  {
   "cell_type": "markdown",
   "metadata": {},
   "source": []
  },
  {
   "cell_type": "markdown",
   "metadata": {},
   "source": [
    "### Exercise 2\n",
    "Scrap all the web pages in the urls list and display the links. 1 thread per link. "
   ]
  },
  {
   "cell_type": "code",
   "execution_count": 2,
   "metadata": {},
   "outputs": [],
   "source": [
    "urls = [\n",
    "  'http://www.python.org',\n",
    "  'http://www.python.org/about/',\n",
    "  'http://www.onlamp.com/pub/a/python/2003/04/17/metaclasses.html',\n",
    "  'http://www.python.org/doc/',\n",
    "  'http://www.python.org/download/',\n",
    "  'http://www.python.org/getit/',\n",
    "  'http://www.python.org/community/',\n",
    "  'https://wiki.python.org/moin/',\n",
    "]"
   ]
  },
  {
   "cell_type": "code",
   "execution_count": null,
   "metadata": {},
   "outputs": [],
   "source": []
  },
  {
   "cell_type": "markdown",
   "metadata": {},
   "source": [
    "## [Be ready for ... decorators!](../07.Decorator/00.decorators.ipynb)"
   ]
  },
  {
   "cell_type": "code",
   "execution_count": null,
   "metadata": {},
   "outputs": [],
   "source": []
  }
 ],
 "metadata": {
  "file_extension": ".py",
  "interpreter": {
   "hash": "369f2c481f4da34e4445cda3fffd2e751bd1c4d706f27375911949ba6bb62e1c"
  },
  "kernelspec": {
   "display_name": "Python 3.10.4 64-bit",
   "language": "python",
   "name": "python3"
  },
  "language_info": {
   "codemirror_mode": {
    "name": "ipython",
    "version": 3
   },
   "file_extension": ".py",
   "mimetype": "text/x-python",
   "name": "python",
   "nbconvert_exporter": "python",
   "pygments_lexer": "ipython3",
   "version": "3.10.4"
  },
  "mimetype": "text/x-python",
  "name": "python",
  "npconvert_exporter": "python",
  "pygments_lexer": "ipython3",
  "version": 3
 },
 "nbformat": 4,
 "nbformat_minor": 2
}
