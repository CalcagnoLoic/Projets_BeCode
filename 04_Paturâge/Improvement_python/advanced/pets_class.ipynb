{
 "cells": [
  {
   "cell_type": "markdown",
   "metadata": {},
   "source": [
    "# Exercice 1 "
   ]
  },
  {
   "cell_type": "code",
   "execution_count": 14,
   "metadata": {},
   "outputs": [
    {
     "name": "stdout",
     "output_type": "stream",
     "text": [
      "I have 3 dogs.\n",
      "Tom is 6.\n",
      "Fletcher is 7.\n",
      "Larry is 9.\n",
      "And they're all mammals, of course.\n",
      "My dogs are not hungry\n",
      "Tom is walking.\n",
      "Fletcher is walking.\n",
      "Larry is walking.\n"
     ]
    }
   ],
   "source": [
    "class pets :\n",
    "    def __init__(self, name, age):\n",
    "        self.name = name\n",
    "        self.age = age\n",
    "    \n",
    "    # number of dogs\n",
    "    def number(self, number):\n",
    "        print(\"I have {} dogs.\".format(number))\n",
    "\n",
    "    # presentation of dogs\n",
    "    def presentation(self):\n",
    "        print(\"{} is {}.\".format(self.name, self.age)) \n",
    "    \n",
    "    def summary(self, species):\n",
    "        print(\"And they're all {}, of course.\".format(species)) \n",
    "    \n",
    "    is_hungry = True\n",
    "\n",
    "    # hungry or not\n",
    "    def eat():\n",
    "        is_hungry = False\n",
    "        print(\"My dogs are not hungry\")\n",
    "\n",
    "    def walk(self):\n",
    "        print('{} is walking.'.format(self.name))\n",
    "\n",
    "\n",
    "pets.number(\"\",3)\n",
    "pets_1 = pets(\"Tom\", 6)\n",
    "pets_2 = pets(\"Fletcher\", 7)\n",
    "pets_3 = pets(\"Larry\", 9)\n",
    "pets_1.presentation()\n",
    "pets_2.presentation()\n",
    "pets_3.presentation()\n",
    "pets.summary(\"\", 'mammals')\n",
    "pets.eat()\n",
    "pets_1.walk()\n",
    "pets_2.walk()\n",
    "pets_3.walk()\n"
   ]
  }
 ],
 "metadata": {
  "interpreter": {
   "hash": "518df85176dc903001e240dfab35f20deafd1fca3124599f5bbdfe0886f12d17"
  },
  "kernelspec": {
   "display_name": "Python 3.9.7 ('base')",
   "language": "python",
   "name": "python3"
  },
  "language_info": {
   "codemirror_mode": {
    "name": "ipython",
    "version": 3
   },
   "file_extension": ".py",
   "mimetype": "text/x-python",
   "name": "python",
   "nbconvert_exporter": "python",
   "pygments_lexer": "ipython3",
   "version": "3.9.7"
  },
  "orig_nbformat": 4
 },
 "nbformat": 4,
 "nbformat_minor": 2
}
