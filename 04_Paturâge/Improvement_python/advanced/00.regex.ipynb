{
 "cells": [
  {
   "cell_type": "markdown",
   "metadata": {},
   "source": [
    "## Drill "
   ]
  },
  {
   "cell_type": "markdown",
   "metadata": {
    "colab_type": "text",
    "id": "f5YsM8CYzeHl"
   },
   "source": [
    "\n",
    "**1. Create a regex that finds integers without size limit.**"
   ]
  },
  {
   "cell_type": "code",
   "execution_count": 2,
   "metadata": {},
   "outputs": [],
   "source": [
    "import re"
   ]
  },
  {
   "cell_type": "code",
   "execution_count": 4,
   "metadata": {
    "colab": {},
    "colab_type": "code",
    "collapsed": true,
    "id": "-Ui9NhETzeHm",
    "outputId": "e0932e42-44c0-4718-b4d0-6b247fc1f674"
   },
   "outputs": [
    {
     "name": "stdout",
     "output_type": "stream",
     "text": [
      "None\n",
      "['8']\n"
     ]
    }
   ],
   "source": [
    "s='sssgdds8sfsfs'\n",
    "print(re.match('\\d', s))\n",
    "print(re.findall(\"\\d\", s))"
   ]
  },
  {
   "cell_type": "markdown",
   "metadata": {
    "colab_type": "text",
    "id": "5s96xBmKzeHr"
   },
   "source": [
    "**2. Create a regex that finds negative integer without size limit.**"
   ]
  },
  {
   "cell_type": "code",
   "execution_count": 12,
   "metadata": {
    "colab": {},
    "colab_type": "code",
    "collapsed": true,
    "id": "_BE3W4FrzeHr"
   },
   "outputs": [
    {
     "name": "stdout",
     "output_type": "stream",
     "text": [
      "None\n",
      "['-8']\n"
     ]
    }
   ],
   "source": [
    "s='sssgdds-8sfsfs'\n",
    "print(re.match(\"\\W\\d\", s))\n",
    "print(re.findall(\"\\W\\d\", s))"
   ]
  },
  {
   "cell_type": "markdown",
   "metadata": {
    "colab_type": "text",
    "id": "VTyKX9W6zeHt"
   },
   "source": [
    "**3. Create a regex that finds (positive or negative) integer without size limit.**"
   ]
  },
  {
   "cell_type": "code",
   "execution_count": 13,
   "metadata": {
    "colab": {},
    "colab_type": "code",
    "collapsed": true,
    "id": "aUt7Ut6szeHu"
   },
   "outputs": [
    {
     "name": "stdout",
     "output_type": "stream",
     "text": [
      "['-8']\n"
     ]
    }
   ],
   "source": [
    "s='sssgdds-8s8fsfs'\n",
    "print(re.findall(\"\\W\\d\", s))"
   ]
  },
  {
   "cell_type": "markdown",
   "metadata": {
    "colab_type": "text",
    "id": "0PHROIn0zeHw"
   },
   "source": [
    "**4. Capture all the numbers of the following sentence :**"
   ]
  },
  {
   "cell_type": "code",
   "execution_count": 11,
   "metadata": {
    "colab": {},
    "colab_type": "code",
    "collapsed": true,
    "id": "ZqZWhh6DzeHx"
   },
   "outputs": [
    {
     "name": "stdout",
     "output_type": "stream",
     "text": [
      "['2', '1', '3', '4', '0', '0', '3', '1', '0', '0', '0', '0']\n"
     ]
    }
   ],
   "source": [
    "text = '21 scouts and 3 tanks fought against 4,003 protestors, so the manager was not 100.00% happy.'\n",
    "print(re.findall(\"\\d\", text))"
   ]
  },
  {
   "cell_type": "markdown",
   "metadata": {
    "colab_type": "text",
    "id": "eMyqTHyTzeH2"
   },
   "source": [
    "**5. Find all words that end with 'ly'.**"
   ]
  },
  {
   "cell_type": "code",
   "execution_count": 27,
   "metadata": {
    "colab": {},
    "colab_type": "code",
    "collapsed": true,
    "id": "F0zce0lbzeH2"
   },
   "outputs": [
    {
     "name": "stdout",
     "output_type": "stream",
     "text": [
      "['prudently', 'quickly']\n"
     ]
    }
   ],
   "source": [
    "text = \"He had prudently disguised himself but was quickly captured by the police.\"\n",
    "result = re.findall(\"\\w+ly\", text)\n",
    "print(result)"
   ]
  },
  {
   "cell_type": "markdown",
   "metadata": {
    "colab": {},
    "colab_type": "code",
    "id": "QoIRhUQazeH4"
   },
   "source": [
    "**6. License plate number**  \n",
    "A license plate consists of 2 capital letters, a dash ('-'), 3 digits, a dash ('-') and finally 2 capital letters. Write a script to check that an input string is a license plate (input () method).  \n",
    "If it's correct, print \"good\". If it's not correct, print \"Not good\"."
   ]
  },
  {
   "cell_type": "code",
   "execution_count": 4,
   "metadata": {
    "colab": {},
    "colab_type": "code",
    "collapsed": true,
    "id": "PA-6loX6zeH8",
    "outputId": "b7289953-b595-4a76-c493-a6964423804a"
   },
   "outputs": [
    {
     "name": "stdout",
     "output_type": "stream",
     "text": [
      "good!\n"
     ]
    }
   ],
   "source": [
    "plate = input(\"Enter your License plate number:\")\n",
    "pattern = '[A-Z]{2}-\\d{3}-[A-Z]{2}'\n",
    "if (re.match(pattern, plate)):\n",
    "    print(\"good!\")\n",
    "else:\n",
    "    print(\"Not good!\")"
   ]
  },
  {
   "cell_type": "markdown",
   "metadata": {
    "colab_type": "text",
    "id": "3ioJXWmXzeIC"
   },
   "source": [
    "**7 . Address IPV4**  \n",
    "An IPv4 address is composed of 4 numbers between 0 and 255 separated by '.'   \n",
    "Write a script to verify that a string entered is that of an IPv4 address (input() method)"
   ]
  },
  {
   "cell_type": "code",
   "execution_count": 11,
   "metadata": {
    "colab": {},
    "colab_type": "code",
    "collapsed": true,
    "id": "AEcNL-vXzeIE"
   },
   "outputs": [
    {
     "name": "stdout",
     "output_type": "stream",
     "text": [
      "good IPV4!\n"
     ]
    }
   ],
   "source": [
    "ip = input(\"Enter your IP address :\")\n",
    "pattern = '(\\d{1,3}\\.)+'\n",
    "if (re.match(pattern, ip)):\n",
    "    print(\"good IPV4!\")\n",
    "else:\n",
    "    print(\"Not good IPV4!\")"
   ]
  },
  {
   "cell_type": "markdown",
   "metadata": {},
   "source": [
    "**8. Valid Mail**  \n",
    "An email is composed of alphanumeric characters followed by @ and a domain name.  \n",
    "Write a script that checks that the string entered by a User is indeed that of an email, otherwise ask him to re-enter it again (until he gets a valid email)?"
   ]
  },
  {
   "cell_type": "code",
   "execution_count": 13,
   "metadata": {
    "colab": {},
    "colab_type": "code",
    "collapsed": true,
    "id": "8NGjap8NzeIH"
   },
   "outputs": [
    {
     "name": "stdout",
     "output_type": "stream",
     "text": [
      "Welcome!\n"
     ]
    }
   ],
   "source": [
    "mail = input(\"Enter your email :\")\n",
    "pattern = '([a-zA-Z0-9_\\.])+\\@([a-z])+\\.[a-z]{1,3}'\n",
    "if(re.match(pattern, mail)):\n",
    "    print(\"Welcome!\")\n",
    "else:\n",
    "    input(\"Enter a valid email!\")"
   ]
  },
  {
   "cell_type": "markdown",
   "metadata": {
    "colab_type": "text",
    "id": "5YoLVVnJzeIK"
   },
   "source": [
    "**9. Valid Password**  \n",
    "Add in the script the verification of the password (obviously if the email is valid) where the only specificity of the password is to contain at least 6 characters"
   ]
  },
  {
   "cell_type": "code",
   "execution_count": 17,
   "metadata": {
    "colab": {},
    "colab_type": "code",
    "collapsed": true,
    "id": "1NJd2SIGzeIM"
   },
   "outputs": [
    {
     "name": "stdout",
     "output_type": "stream",
     "text": [
      "Good password\n"
     ]
    }
   ],
   "source": [
    "password = input(\"Enter your Password :\")\n",
    "pattern = '([a-zA-Z0-9)+\\@([a-z])+\\.[a-z]{1,3}'\n",
    "if(re.match(pattern, password)):\n",
    "    print(\"Good password\")\n",
    "else:\n",
    "    print(\"Not enough characters\")"
   ]
  },
  {
   "cell_type": "markdown",
   "metadata": {
    "colab_type": "text",
    "id": "QBnkFFmtzeIO"
   },
   "source": [
    "**10. Valid Password bis**  \n",
    "The password must now contain at least 6 characters:  \n",
    "At least one lowercase letter AND at least one uppercase letter AND at least one number AND at least one special character (among $#@)."
   ]
  },
  {
   "cell_type": "code",
   "execution_count": 16,
   "metadata": {
    "colab": {},
    "colab_type": "code",
    "collapsed": true,
    "id": "Kh8YQEcjzeIP"
   },
   "outputs": [
    {
     "name": "stdout",
     "output_type": "stream",
     "text": [
      "Good password\n"
     ]
    }
   ],
   "source": [
    "password = input(\"Enter your Password :\")\n",
    "pattern = '([a-zA-Z0-9_\\.\\$\\@\\#])+\\@([a-z])+\\.[a-z]{1,3}'\n",
    "if(re.match(pattern, password)):\n",
    "    print(\"Good password\")\n",
    "else:\n",
    "    print(\"The password must contains at least one lowercase letter / uppercase letter / number / special character\")"
   ]
  },
  {
   "cell_type": "markdown",
   "metadata": {},
   "source": [
    "**11. Search by groups**  \n",
    "It is possible to search by group, and it is very powerful!  \n",
    "``?P<x>\\w+`` means the capture of a \"group\" named x, this group is an alphanumeric (\\ w) of at least one character (+)"
   ]
  },
  {
   "cell_type": "code",
   "execution_count": 18,
   "metadata": {
    "colab": {},
    "colab_type": "code",
    "collapsed": true,
    "id": "B84T52avzeIT",
    "outputId": "8c172ad4-e738-4959-853f-769431aa63fd"
   },
   "outputs": [
    {
     "name": "stdout",
     "output_type": "stream",
     "text": [
      "olivier\n",
      "32\n"
     ]
    }
   ],
   "source": [
    "m = re.search(\"Welcome to (?P<where>\\w+) ! You are (?P<age>\\d+) years old ?\", \"Welcome to olivier ! You are 32 years old ?\")\n",
    "print(m.group('where'))\n",
    "print(m.group('age'))"
   ]
  },
  {
   "cell_type": "code",
   "execution_count": 19,
   "metadata": {
    "colab": {},
    "colab_type": "code",
    "collapsed": true,
    "id": "8zIMNbCVzeIW",
    "outputId": "7688cc3b-627d-4c7f-9352-71238148cb88"
   },
   "outputs": [
    {
     "name": "stdout",
     "output_type": "stream",
     "text": [
      "audrey\n",
      "boulevart\n",
      "benextcomapgny\n",
      "com\n"
     ]
    }
   ],
   "source": [
    " # Another Example\n",
    "m = re.search(\"^(?P<who>\\w*)[.]?(?P<who2>\\w*)@(?P<operator>\\w+)[.](?P<zone>\\w+$)\", \"audrey.boulevart@benextcomapgny.com\")\n",
    "if m is not None:\n",
    "    print (m.group(\"who\"))\n",
    "    print (m.group('who2'))\n",
    "    print (m.group('operator'))\n",
    "    print (m.group('zone'))  "
   ]
  },
  {
   "cell_type": "markdown",
   "metadata": {
    "colab_type": "text",
    "id": "jWjUNH0wzeIY"
   },
   "source": [
    "Take back the file ``../data/mail.txt`` and clean it with the regex. The goal is to retrieve the last name, first name, operator and zone, as in the previous example. And store these information in associated lists."
   ]
  },
  {
   "cell_type": "code",
   "execution_count": null,
   "metadata": {
    "colab": {},
    "colab_type": "code",
    "collapsed": true,
    "id": "-lbl8DZDzeIZ"
   },
   "outputs": [],
   "source": [
    "list_mail = open(\"../data/mail.txt\")"
   ]
  },
  {
   "cell_type": "markdown",
   "metadata": {
    "colab_type": "text",
    "id": "HRj-nKbszeIi"
   },
   "source": [
    "**12. Another way of doing things.**"
   ]
  },
  {
   "cell_type": "code",
   "execution_count": 2,
   "metadata": {
    "colab": {},
    "colab_type": "code",
    "id": "KZ-pp_LdzeIb",
    "outputId": "9ce1a3a7-4cf2-444e-ebdb-0c1bcdb9c3d8"
   },
   "outputs": [
    {
     "data": {
      "text/plain": [
       "(['audrey'], ['boulevart'], ['benextcomapgny'], ['com'])"
      ]
     },
     "execution_count": 2,
     "metadata": {},
     "output_type": "execute_result"
    }
   ],
   "source": [
    "mail=\"audrey.boulevart@benextcomapgny.com\"\n",
    "splitMail = mail.replace('.',' ').split('@').copy()\n",
    "\n",
    "firstName =[]\n",
    "name =[]\n",
    "ope =[]\n",
    "zone =[]\n",
    "\n",
    "firstName.append(splitMail[0].split()[0])\n",
    "name.append(splitMail[0].split()[-1])\n",
    "ope.append(splitMail[1].split()[0])\n",
    "zone.append(splitMail[1].split()[-1])\n",
    "\n",
    "firstName, name, ope, zone"
   ]
  },
  {
   "cell_type": "markdown",
   "metadata": {},
   "source": [
    "Repeat the previous exercise with this new formula and compare the length of your lists with those of the previous exercise.  \n",
    "What do you notice ?"
   ]
  },
  {
   "cell_type": "code",
   "execution_count": 1,
   "metadata": {},
   "outputs": [],
   "source": []
  },
  {
   "cell_type": "markdown",
   "metadata": {
    "colab": {},
    "colab_type": "code",
    "collapsed": true,
    "id": "N5YTf2YdzeIi"
   },
   "source": [
    "## [Get out of there !](../04.File-handling/00.python_handling_file.ipynb)"
   ]
  }
 ],
 "metadata": {
  "colab": {
   "name": "Av_2_python_regex.ipynb",
   "provenance": [],
   "version": "0.3.2"
  },
  "interpreter": {
   "hash": "369f2c481f4da34e4445cda3fffd2e751bd1c4d706f27375911949ba6bb62e1c"
  },
  "kernelspec": {
   "display_name": "Python 3.10.4 64-bit",
   "language": "python",
   "name": "python3"
  },
  "language_info": {
   "codemirror_mode": {
    "name": "ipython",
    "version": 3
   },
   "file_extension": ".py",
   "mimetype": "text/x-python",
   "name": "python",
   "nbconvert_exporter": "python",
   "pygments_lexer": "ipython3",
   "version": "3.10.4"
  }
 },
 "nbformat": 4,
 "nbformat_minor": 1
}
