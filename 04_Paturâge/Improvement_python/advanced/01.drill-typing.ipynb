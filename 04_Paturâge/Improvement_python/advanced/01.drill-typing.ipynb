{
 "cells": [
  {
   "cell_type": "markdown",
   "metadata": {
    "pycharm": {
     "name": "#%% md\n"
    }
   },
   "source": [
    "### Type hints : drill"
   ]
  },
  {
   "cell_type": "markdown",
   "metadata": {
    "pycharm": {
     "name": "#%% md\n"
    }
   },
   "source": [
    "Write a function with annotations that changes an ```int``` into a ```str```. "
   ]
  },
  {
   "cell_type": "code",
   "execution_count": null,
   "metadata": {
    "pycharm": {
     "is_executing": true,
     "name": "#%%\n"
    }
   },
   "outputs": [],
   "source": [
    "def changeIntoStr(a :int, b :int) ->str:\n",
    "    return str(a)+str(b)\n",
    "\n",
    "print(changeIntoStr(15,20))"
   ]
  },
  {
   "cell_type": "markdown",
   "metadata": {
    "pycharm": {
     "name": "#%% md\n"
    }
   },
   "source": [
    "Now one that divides an ```int``` by another."
   ]
  },
  {
   "cell_type": "code",
   "execution_count": 6,
   "metadata": {
    "pycharm": {
     "name": "#%%\n"
    }
   },
   "outputs": [
    {
     "data": {
      "text/plain": [
       "1"
      ]
     },
     "execution_count": 6,
     "metadata": {},
     "output_type": "execute_result"
    }
   ],
   "source": [
    "def divideNumber(a :int, b:int) ->int :\n",
    "    return int(a/b)\n",
    "\n",
    "divideNumber(5,5)"
   ]
  },
  {
   "cell_type": "markdown",
   "metadata": {
    "pycharm": {
     "name": "#%% md\n"
    }
   },
   "source": [
    "Annotate the function declaration below."
   ]
  },
  {
   "cell_type": "code",
   "execution_count": 9,
   "metadata": {
    "pycharm": {
     "name": "#%%\n"
    }
   },
   "outputs": [],
   "source": [
    "def send_email(address :str,\n",
    "               sender :str,\n",
    "               cc :str,\n",
    "               cci :str,\n",
    "               subject='',\n",
    "               body = None\n",
    "               ) -> str:\n",
    "    return "
   ]
  },
  {
   "cell_type": "markdown",
   "metadata": {
    "pycharm": {
     "name": "#%% md\n"
    }
   },
   "source": [
    "Given the next strings :\n",
    "```\n",
    "suits = \"♠ ♡ ♢ ♣\".split()\n",
    "ranks = \"2 3 4 5 6 7 8 9 10 J Q K A\".split()\n",
    "```\n"
   ]
  },
  {
   "cell_type": "markdown",
   "metadata": {
    "pycharm": {
     "name": "#%% md\n"
    }
   },
   "source": [
    "Define ```Card```, ```Deck``` and ```Players``` Type **aliases**."
   ]
  },
  {
   "cell_type": "code",
   "execution_count": 11,
   "metadata": {
    "pycharm": {
     "name": "#%%\n"
    }
   },
   "outputs": [],
   "source": [
    "Card = str\n",
    "Deck = str\n",
    "Players = str"
   ]
  },
  {
   "cell_type": "markdown",
   "metadata": {
    "pycharm": {
     "name": "#%% md\n"
    }
   },
   "source": [
    "Write a program that will create and shuffle the deck. Then distribute the cards to 4 players. Using annotations."
   ]
  },
  {
   "cell_type": "code",
   "execution_count": 6,
   "metadata": {
    "pycharm": {
     "name": "#%%\n"
    }
   },
   "outputs": [
    {
     "name": "stdout",
     "output_type": "stream",
     "text": [
      "['A', 'K', '10'] ['♣']\n"
     ]
    }
   ],
   "source": [
    "suits = \"♠ ♡ ♢ ♣\".split()\n",
    "ranks = \"2 3 4 5 6 7 8 9 10 J Q K A\".split()\n",
    "\n",
    "class game():\n",
    "    def __init__(self, suits :str, ranks :str):\n",
    "        self.suits = suits\n",
    "        self.ranks = ranks\n",
    "\n",
    "    #Creation of deck\n",
    "    def deckInit(self) -> str:\n",
    "        import random  \n",
    "        deck = []\n",
    "        deck.append(self.suits)\n",
    "        deck.append(self.ranks)\n",
    "        print(random.sample(deck[1], 3), random.sample(deck[0], 1))\n",
    "\n",
    "test = game(suits, ranks)\n",
    "test.deckInit()"
   ]
  },
  {
   "cell_type": "markdown",
   "metadata": {
    "pycharm": {
     "name": "#%% md\n"
    }
   },
   "source": [
    "## [The \"good practices\"](../09.Good_practices/good_practices.ipynb)"
   ]
  }
 ],
 "metadata": {
  "interpreter": {
   "hash": "518df85176dc903001e240dfab35f20deafd1fca3124599f5bbdfe0886f12d17"
  },
  "kernelspec": {
   "display_name": "Python 3.9.7 ('base')",
   "language": "python",
   "name": "python3"
  },
  "language_info": {
   "codemirror_mode": {
    "name": "ipython",
    "version": 3
   },
   "file_extension": ".py",
   "mimetype": "text/x-python",
   "name": "python",
   "nbconvert_exporter": "python",
   "pygments_lexer": "ipython3",
   "version": "3.9.7"
  }
 },
 "nbformat": 4,
 "nbformat_minor": 2
}