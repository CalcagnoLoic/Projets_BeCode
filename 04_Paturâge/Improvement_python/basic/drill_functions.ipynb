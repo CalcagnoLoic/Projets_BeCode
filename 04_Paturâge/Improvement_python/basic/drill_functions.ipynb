{
 "cells": [
  {
   "cell_type": "markdown",
   "metadata": {},
   "source": [
    "# Drill functions"
   ]
  },
  {
   "cell_type": "markdown",
   "metadata": {},
   "source": [
    "### 1. Say Hello\n",
    "Write a function called hello(name) that returns a string of characters. This function will take as argument a variable name. This function will return a string 'Hello name'"
   ]
  },
  {
   "cell_type": "markdown",
   "metadata": {},
   "source": [
    "Example :\n",
    "<pre><code>hello('Jean') => 'Hello Jean'</code></pre>\n",
    "<pre><code>hello() => 'Hello Anonymous' </code></pre>"
   ]
  },
  {
   "cell_type": "code",
   "execution_count": 5,
   "metadata": {
    "collapsed": true
   },
   "outputs": [
    {
     "data": {
      "text/plain": [
       "'Hello Loïc'"
      ]
     },
     "execution_count": 5,
     "metadata": {},
     "output_type": "execute_result"
    }
   ],
   "source": [
    "def hello(name = \"Anonymous\"):\n",
    "    return \"Hello \" + name\n",
    "\n",
    "hello()\n",
    "hello(\"Loïc\")"
   ]
  },
  {
   "cell_type": "markdown",
   "metadata": {},
   "source": [
    "### 2. Count students\n",
    "Create a function \"sumOfStudents()\" that calculates and returns the number of students in a list. The function will have to return an integer."
   ]
  },
  {
   "cell_type": "markdown",
   "metadata": {},
   "source": [
    "Example : \n",
    "<pre>\n",
    "    <code>\n",
    "sumOfStudents([[\"Jean\", \"Alice\", \"Edwige\", \"Peter\", \"James\"],\n",
    "               [\"Redouane\", \"Justine\", \"Adrien\", \"Nicolas\", \"Pierre\"]]) => 10\n",
    "    </code>\n",
    "</pre>"
   ]
  },
  {
   "cell_type": "code",
   "execution_count": 6,
   "metadata": {
    "collapsed": true
   },
   "outputs": [
    {
     "data": {
      "text/plain": [
       "10"
      ]
     },
     "execution_count": 6,
     "metadata": {},
     "output_type": "execute_result"
    }
   ],
   "source": [
    "def sumOfStudents(students):\n",
    "    count = sum([len(elem) for elem in students])\n",
    "    return count\n",
    "\n",
    "sumOfStudents([[\"Jean\", \"Alice\", \"Edwige\", \"Peter\", \"James\"],[\"Redouane\", \"Justine\", \"Adrien\", \"Nicolas\", \"Pierre\"]])"
   ]
  },
  {
   "cell_type": "markdown",
   "metadata": {},
   "source": [
    "### 3.  Is divisible ?\n",
    "Create a function isDivisible(n, x, y) that checks if a number n is divisible by two numbers x AND y. All inputs are positive, non-zero digits."
   ]
  },
  {
   "cell_type": "markdown",
   "metadata": {},
   "source": [
    "Example:\n",
    "```\n",
    "is_divisible(3,1,3)--> True because 3 is divisible by 1 and 3\n",
    "is_divisible(12,2,6)--> True because 12 is divisible by 2 and 6\n",
    "is_divisible(100,5,3)--> False because 100 is not divisible by 3\n",
    "is_divisible(12,7,5)--> False because 12 is neither divisible by 7 nor 5\n",
    "```"
   ]
  },
  {
   "cell_type": "code",
   "execution_count": 7,
   "metadata": {
    "collapsed": true
   },
   "outputs": [
    {
     "data": {
      "text/plain": [
       "False"
      ]
     },
     "execution_count": 7,
     "metadata": {},
     "output_type": "execute_result"
    }
   ],
   "source": [
    "def is_divisible(n,x,y):\n",
    "    if n % x == 0 and n % y == 0:\n",
    "        return True\n",
    "    else:\n",
    "        return False\n",
    "\n",
    "is_divisible(13,1,3)"
   ]
  },
  {
   "cell_type": "markdown",
   "metadata": {},
   "source": [
    "### 4. Abbreviate a Two Words Name\n",
    "Write a function to convert a name into initials. This kata strictly takes two words with one space in between them."
   ]
  },
  {
   "cell_type": "markdown",
   "metadata": {},
   "source": [
    "Example : \n",
    "```\n",
    "Sam Harris => S.H\n",
    "\n",
    "Patrick Feeney => P.F\n",
    "```"
   ]
  },
  {
   "cell_type": "code",
   "execution_count": 34,
   "metadata": {
    "collapsed": true
   },
   "outputs": [
    {
     "data": {
      "text/plain": [
       "'L.C'"
      ]
     },
     "execution_count": 34,
     "metadata": {},
     "output_type": "execute_result"
    }
   ],
   "source": [
    "def abbrevName(name):\n",
    "    abbreviation = []\n",
    "    nameList = name.split()\n",
    "    for elem in nameList:\n",
    "        abbreviation.append(elem[0])\n",
    "    return('.'.join(abbreviation))\n",
    "\n",
    "\n",
    "abbrevName('Loïc Calcagno')"
   ]
  },
  {
   "cell_type": "markdown",
   "metadata": {},
   "source": [
    "### 5. Sum of positive \n",
    "You get an array of numbers, return the sum of all of the positives ones."
   ]
  },
  {
   "cell_type": "markdown",
   "metadata": {},
   "source": [
    "Example :  \n",
    "`` [1,-4,7,12] => 1 + 7 + 12 = 20``"
   ]
  },
  {
   "cell_type": "code",
   "execution_count": 9,
   "metadata": {
    "collapsed": true
   },
   "outputs": [
    {
     "data": {
      "text/plain": [
       "12"
      ]
     },
     "execution_count": 9,
     "metadata": {},
     "output_type": "execute_result"
    }
   ],
   "source": [
    "def positive_sum(numbers):\n",
    "    pos = 0\n",
    "    for elem in numbers:\n",
    "        if elem > 0:\n",
    "            pos += elem\n",
    "    return pos\n",
    "\n",
    "positive_sum([4,8,-4])"
   ]
  },
  {
   "cell_type": "markdown",
   "metadata": {},
   "source": [
    "### 6. Sum mixed array \n",
    "\n",
    "Given an array of integers as strings and numbers, return the sum of the array values as if all were numbers.\n",
    "\n",
    "Return your answer as a number.\n"
   ]
  },
  {
   "cell_type": "markdown",
   "metadata": {},
   "source": [
    "Example : \n",
    "```\n",
    "sum_mix(['5', '0', 9, 3, 2, 1, '9', 6, 7]) => 42\n",
    "```"
   ]
  },
  {
   "cell_type": "code",
   "execution_count": 10,
   "metadata": {
    "collapsed": true
   },
   "outputs": [
    {
     "data": {
      "text/plain": [
       "42"
      ]
     },
     "execution_count": 10,
     "metadata": {},
     "output_type": "execute_result"
    }
   ],
   "source": [
    "def sum_mix(arr):\n",
    "    return sum(int(elem) for elem in arr)\n",
    "\n",
    "sum_mix(['5', '0', 9, 3, 2, 1, '9', 6, 7])"
   ]
  },
  {
   "cell_type": "markdown",
   "metadata": {},
   "source": [
    "### 7. Return the day\n",
    "Complete the function which returns the weekday according to the input number:\n",
    "\n",
    "    1 returns \"Sunday\"\n",
    "    2 returns \"Monday\"\n",
    "    3 returns \"Tuesday\"\n",
    "    4 returns \"Wednesday\"\n",
    "    5 returns \"Thursday\"\n",
    "    6 returns \"Friday\"\n",
    "    7 returns \"Saturday\"\n",
    "    Otherwise returns \"Wrong, please enter a number between 1 and 7\"\n",
    "\n"
   ]
  },
  {
   "cell_type": "code",
   "execution_count": 11,
   "metadata": {
    "collapsed": true
   },
   "outputs": [
    {
     "data": {
      "text/plain": [
       "'Sunday'"
      ]
     },
     "execution_count": 11,
     "metadata": {},
     "output_type": "execute_result"
    }
   ],
   "source": [
    "def whatday(num):\n",
    "    if num == 1:\n",
    "      return \"Sunday\"\n",
    "    elif num == 2:\n",
    "      return \"Monday\"\n",
    "    elif num == 3:\n",
    "      return \"Tuesday\"\n",
    "    elif num == 4:\n",
    "      return \"Wednesday\"\n",
    "    elif num == 5:\n",
    "      return \"Thursday\"\n",
    "    elif num == 6:\n",
    "      return \"Friday\"\n",
    "    elif num == 7:\n",
    "      return \"Saturday\"\n",
    "    else:\n",
    "      return \"Wrong, please enter a number between 1 and 7\"\n",
    "\n",
    "whatday(1)"
   ]
  },
  {
   "cell_type": "markdown",
   "metadata": {},
   "source": [
    "### 8. Summation\n",
    "Write a program that finds the summation of every number from 1 to num. The number will always be a positive integer greater than 0.\n"
   ]
  },
  {
   "cell_type": "markdown",
   "metadata": {},
   "source": [
    "Example : \n",
    "```\n",
    "    summation(2) -> 3\n",
    "    1 + 2\n",
    "\n",
    "    summation(8) -> 36\n",
    "    1 + 2 + 3 + 4 + 5 + 6 + 7 + 8\n",
    "```"
   ]
  },
  {
   "cell_type": "code",
   "execution_count": 12,
   "metadata": {
    "collapsed": true
   },
   "outputs": [
    {
     "data": {
      "text/plain": [
       "36"
      ]
     },
     "execution_count": 12,
     "metadata": {},
     "output_type": "execute_result"
    }
   ],
   "source": [
    "def summation(num):\n",
    "    return sum(range(1, num+1))\n",
    "\n",
    "summation(8)"
   ]
  },
  {
   "cell_type": "markdown",
   "metadata": {},
   "source": [
    "### 9. If you can't sleep, just count sheep!!"
   ]
  },
  {
   "cell_type": "markdown",
   "metadata": {},
   "source": [
    "Given a non-negative integer, 3 for example, return a string with a murmur: \"1 sheep...2 sheep...3 sheep...\". Input will always be valid, i.e. no negative integers."
   ]
  },
  {
   "cell_type": "code",
   "execution_count": 13,
   "metadata": {
    "collapsed": true
   },
   "outputs": [
    {
     "data": {
      "text/plain": [
       "'1 sheep...2 sheep...3 sheep...4 sheep...5 sheep...'"
      ]
     },
     "execution_count": 13,
     "metadata": {},
     "output_type": "execute_result"
    }
   ],
   "source": [
    "def count_sheep(n):\n",
    "    return ('{} sheep...'*n).format(*list(range(1, n+1)))\n",
    "\n",
    "count_sheep(5)"
   ]
  },
  {
   "cell_type": "markdown",
   "metadata": {},
   "source": [
    "### 10. Student's final grade \n",
    "Create a function finalGrade, which calculates the final grade of a student depending on two parameters: a grade for the exam and a number of completed projects.\n",
    "\n",
    "This function should take two arguments: exam - grade for exam (from 0 to 100); projects - number of completed projects (from 0 and above);\n",
    "\n",
    "This function should return a number (final grade). There are four types of final grades:\n",
    "\n",
    "    100, if a grade for the exam is more than 90 or if a number of completed projects more than 10.\n",
    "    90, if a grade for the exam is more than 75 and if a number of completed projects is minimum 5.\n",
    "    75, if a grade for the exam is more than 50 and if a number of completed projects is minimum 2.\n",
    "    0, in other cases\n"
   ]
  },
  {
   "cell_type": "code",
   "execution_count": 14,
   "metadata": {
    "collapsed": true
   },
   "outputs": [],
   "source": [
    "def final_grade(exam, projects):\n",
    "    if exam > 90 and projects > 10:\n",
    "        return 100\n",
    "    elif exam > 75 and projects < 6:\n",
    "        return 90\n",
    "    elif exam > 50 and projects < 3:\n",
    "        return 75\n",
    "    else:\n",
    "        return 0"
   ]
  },
  {
   "cell_type": "markdown",
   "metadata": {},
   "source": [
    "## Testing"
   ]
  },
  {
   "cell_type": "markdown",
   "metadata": {},
   "source": [
    "Do not touch the code, just run it"
   ]
  },
  {
   "cell_type": "code",
   "execution_count": 33,
   "metadata": {},
   "outputs": [
    {
     "name": "stderr",
     "output_type": "stream",
     "text": [
      "test_abbrevName (__main__.TestNotebook) ... ok\n",
      "test_count_sheep (__main__.TestNotebook) ... ok\n",
      "test_final_grade (__main__.TestNotebook) ... ok\n",
      "test_hello (__main__.TestNotebook) ... ok\n",
      "test_is_divisible (__main__.TestNotebook) ... ok\n",
      "test_positive_sum (__main__.TestNotebook) ... ok\n",
      "test_return_day (__main__.TestNotebook) ... ok\n",
      "test_sumOfStudents (__main__.TestNotebook) ... ok\n",
      "test_sum_mixed_array (__main__.TestNotebook) ... ok\n",
      "test_summation (__main__.TestNotebook) ... ok\n",
      "\n",
      "----------------------------------------------------------------------\n",
      "Ran 10 tests in 0.010s\n",
      "\n",
      "OK\n"
     ]
    },
    {
     "data": {
      "text/plain": [
       "<unittest.main.TestProgram at 0x2bc3a484f10>"
      ]
     },
     "execution_count": 33,
     "metadata": {},
     "output_type": "execute_result"
    }
   ],
   "source": [
    "import unittest\n",
    " \n",
    "class TestNotebook(unittest.TestCase):\n",
    "    \n",
    "    def test_hello(self):\n",
    "        self.assertEqual(hello(),'Hello Anonymous')\n",
    "        self.assertEqual(hello(\"Jean\"),'Hello Jean')\n",
    "    \n",
    "    def test_sumOfStudents(self):\n",
    "        self.assertEqual(sumOfStudents([[\"Jean\", \"Alice\", \"Edwige\", \"Peter\", \"James\"],[\"Redouane\", \"Justine\", \"Adrien\", \"Nicolas\", \"Pierre\"]]), 10)\n",
    "        \n",
    " \n",
    "    def test_is_divisible (self):\n",
    "        self.assertEqual(is_divisible(3,3,4),False)\n",
    "        self.assertEqual(is_divisible(12,3,4),True)\n",
    "        self.assertEqual(is_divisible(8,3,4),False)\n",
    "        self.assertEqual(is_divisible(48,3,4),True)\n",
    "\n",
    "    \n",
    "    def test_abbrevName(self):\n",
    "        self.assertEqual(abbrevName(\"Sam Harris\"), \"S.H\");\n",
    "        self.assertEqual(abbrevName(\"Patrick Feenan\"), \"P.F\");\n",
    "        self.assertEqual(abbrevName(\"Evan Cole\"), \"E.C\");\n",
    "        self.assertEqual(abbrevName(\"P Favuzzi\"), \"P.F\");\n",
    "        self.assertEqual(abbrevName(\"David Mendieta\"), \"D.M\");\n",
    "\n",
    "    \n",
    "    def test_positive_sum(self):\n",
    "        self.assertEqual(positive_sum([1,2,3,4,5]),15)\n",
    "        self.assertEqual(positive_sum([1,-2,3,4,5]),13)\n",
    "        self.assertEqual(positive_sum([-1,2,3,4,-5]),9)\n",
    "        self.assertEqual(positive_sum([]),0)\n",
    "        self.assertEqual(positive_sum([-1,-2,-3,-4,-5]),0)\n",
    "    \n",
    "    def test_sum_mixed_array(self):\n",
    "        self.assertEqual(sum_mix([9, 3, '7', '3']), 22)\n",
    "        self.assertEqual(sum_mix(['5', '0', 9, 3, 2, 1, '9', 6, 7]), 42)\n",
    "        self.assertEqual(sum_mix(['3', 6, 6, 0, '5', 8, 5, '6', 2,'0']), 41)\n",
    "        self.assertEqual(sum_mix(['1', '5', '8', 8, 9, 9, 2, '3']), 45)\n",
    "        self.assertEqual(sum_mix([8, 0, 0, 8, 5, 7, 2, 3, 7, 8, 6, 7]), 61)\n",
    "    \n",
    "    def test_return_day(self):\n",
    "        self.assertEqual(whatday(1), 'Sunday')\n",
    "        self.assertEqual(whatday(2), 'Monday')\n",
    "        self.assertEqual(whatday(3), 'Tuesday')\n",
    "        self.assertEqual(whatday(8), 'Wrong, please enter a number between 1 and 7')\n",
    "        self.assertEqual(whatday(20), 'Wrong, please enter a number between 1 and 7')\n",
    "    \n",
    "    def test_final_grade(self):\n",
    "        self.assertEqual(final_grade(100, 12), 100)\n",
    "        self.assertEqual(final_grade(85, 5), 90)\n",
    "    \n",
    "    def test_count_sheep(self):\n",
    "        self.assertEqual(count_sheep(1), \"1 sheep...\");\n",
    "        self.assertEqual(count_sheep(2), \"1 sheep...2 sheep...\")\n",
    "        self.assertEqual(count_sheep(3), \"1 sheep...2 sheep...3 sheep...\")\n",
    "        \n",
    "    def test_summation(self):\n",
    "        self.assertEqual(summation(1), 1)\n",
    "        self.assertEqual(summation(8), 36)\n",
    "\n",
    "unittest.main(argv=[''], verbosity=2, exit=False)\n",
    "\n",
    "\n",
    "\n",
    "\n",
    "\n"
   ]
  },
  {
   "cell_type": "markdown",
   "metadata": {
    "collapsed": true
   },
   "source": [
    "## [Next one](../../01.Python-Basics/Quizz_1_exercices.ipynb)"
   ]
  }
 ],
 "metadata": {
  "interpreter": {
   "hash": "518df85176dc903001e240dfab35f20deafd1fca3124599f5bbdfe0886f12d17"
  },
  "kernelspec": {
   "display_name": "Python 3.9.7 ('base')",
   "language": "python",
   "name": "python3"
  },
  "language_info": {
   "codemirror_mode": {
    "name": "ipython",
    "version": 3
   },
   "file_extension": ".py",
   "mimetype": "text/x-python",
   "name": "python",
   "nbconvert_exporter": "python",
   "pygments_lexer": "ipython3",
   "version": "3.9.7"
  }
 },
 "nbformat": 4,
 "nbformat_minor": 2
}
