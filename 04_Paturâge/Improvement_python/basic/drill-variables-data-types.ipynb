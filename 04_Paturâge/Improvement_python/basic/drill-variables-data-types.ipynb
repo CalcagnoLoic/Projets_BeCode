{
 "cells": [
  {
   "cell_type": "markdown",
   "metadata": {
    "pycharm": {
     "name": "#%% md\n"
    }
   },
   "source": [
    "**1. Create a variable ``name`` that contains the value \"Alan Turing\".**"
   ]
  },
  {
   "cell_type": "code",
   "execution_count": 2,
   "metadata": {
    "collapsed": true,
    "pycharm": {
     "name": "#%%\n"
    }
   },
   "outputs": [],
   "source": [
    "name = \"Alan Turing\""
   ]
  },
  {
   "cell_type": "markdown",
   "metadata": {
    "pycharm": {
     "name": "#%% md\n"
    }
   },
   "source": [
    "**2. Create a variable ``age`` that contains the value 42.**"
   ]
  },
  {
   "cell_type": "code",
   "execution_count": 9,
   "metadata": {
    "collapsed": true,
    "pycharm": {
     "name": "#%%\n"
    }
   },
   "outputs": [
    {
     "data": {
      "text/plain": [
       "int"
      ]
     },
     "execution_count": 9,
     "metadata": {},
     "output_type": "execute_result"
    }
   ],
   "source": [
    "age = 42"
   ]
  },
  {
   "cell_type": "markdown",
   "metadata": {
    "pycharm": {
     "name": "#%% md\n"
    }
   },
   "source": [
    "**3. Create a person variable that contains a list with the following values ``name``, ``age``** and \"mathematician\""
   ]
  },
  {
   "cell_type": "code",
   "execution_count": 28,
   "metadata": {
    "collapsed": true,
    "pycharm": {
     "name": "#%%\n"
    }
   },
   "outputs": [],
   "source": [
    "person = [name, age, 'mathematician']"
   ]
  },
  {
   "cell_type": "markdown",
   "metadata": {
    "pycharm": {
     "name": "#%% md\n"
    }
   },
   "source": [
    "**4. Create a variable ``text`` that contains \"Hello, my name is Alan Turing and i am 42 years old and i am a mathematician\".  \n",
    "Use the format method and the variable ``person``  to do this.**"
   ]
  },
  {
   "cell_type": "code",
   "execution_count": 29,
   "metadata": {
    "collapsed": true,
    "pycharm": {
     "name": "#%%\n"
    }
   },
   "outputs": [
    {
     "name": "stdout",
     "output_type": "stream",
     "text": [
      "Hello, my name is Alan Turing and i am 42 years old and i am a mathematician.\n"
     ]
    }
   ],
   "source": [
    "text = \"Hello, my name is {} and i am {} years old and i am a {}.\".format(person[0], person[1], person[2])\n",
    "print(text)"
   ]
  },
  {
   "cell_type": "markdown",
   "metadata": {
    "pycharm": {
     "name": "#%% md\n"
    }
   },
   "source": [
    "**5. Create a variable ``typeAge`` that contains type of variable ``age.``**"
   ]
  },
  {
   "cell_type": "code",
   "execution_count": 16,
   "metadata": {
    "collapsed": true,
    "pycharm": {
     "name": "#%%\n"
    }
   },
   "outputs": [],
   "source": [
    "typeAge = type(age)"
   ]
  },
  {
   "cell_type": "markdown",
   "metadata": {
    "pycharm": {
     "name": "#%% md\n"
    }
   },
   "source": [
    "## Testing\n",
    "Every good developer tests his code. So we're going to get the right habits now. Do not change the code, execute it."
   ]
  },
  {
   "cell_type": "code",
   "execution_count": 27,
   "metadata": {
    "collapsed": true,
    "pycharm": {
     "name": "#%%\n"
    }
   },
   "outputs": [
    {
     "name": "stderr",
     "output_type": "stream",
     "text": [
      "test_age (__main__.TestNotebook) ... ok\n",
      "test_name (__main__.TestNotebook) ... ok\n",
      "test_person (__main__.TestNotebook) ... ok\n",
      "test_text (__main__.TestNotebook) ... ok\n",
      "test_type (__main__.TestNotebook) ... ok\n",
      "\n",
      "----------------------------------------------------------------------\n",
      "Ran 5 tests in 0.006s\n",
      "\n",
      "OK\n"
     ]
    },
    {
     "data": {
      "text/plain": [
       "<unittest.main.TestProgram at 0x27bad055400>"
      ]
     },
     "execution_count": 27,
     "metadata": {},
     "output_type": "execute_result"
    }
   ],
   "source": [
    "import unittest\n",
    " \n",
    "class TestNotebook(unittest.TestCase):\n",
    " \n",
    "    def test_name(self):\n",
    "        self.assertEqual(name, \"Alan Turing\")\n",
    "    \n",
    "    def test_age(self):\n",
    "        self.assertEqual(age, 42)\n",
    "    \n",
    "    def test_person(self):\n",
    "        self.assertEqual(person,[\"Alan Turing\", 42, \"mathematician\"])\n",
    "    \n",
    "    def test_text(self):\n",
    "        self.assertEqual(text,\"Hello, my name is Alan Turing and i am 42 years old and i am a mathematician.\")\n",
    "        \n",
    "    def test_type(self):\n",
    "        self.assertEqual(typeAge,type(int()))\n",
    "    \n",
    "\n",
    "unittest.main(argv=[''], verbosity=2, exit=False)"
   ]
  },
  {
   "cell_type": "markdown",
   "metadata": {
    "pycharm": {
     "name": "#%% md\n"
    }
   },
   "source": [
    "## [Is everything okay? Well, you can move on.](../3.basics-operators/basics-operators.ipynb)"
   ]
  }
 ],
 "metadata": {
  "interpreter": {
   "hash": "518df85176dc903001e240dfab35f20deafd1fca3124599f5bbdfe0886f12d17"
  },
  "kernelspec": {
   "display_name": "Python 3.9.7 ('base')",
   "language": "python",
   "name": "python3"
  },
  "language_info": {
   "codemirror_mode": {
    "name": "ipython",
    "version": 3
   },
   "file_extension": ".py",
   "mimetype": "text/x-python",
   "name": "python",
   "nbconvert_exporter": "python",
   "pygments_lexer": "ipython3",
   "version": "3.9.7"
  }
 },
 "nbformat": 4,
 "nbformat_minor": 2
}