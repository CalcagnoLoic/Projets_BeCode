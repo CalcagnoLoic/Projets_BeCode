{
 "cells": [
  {
   "cell_type": "markdown",
   "id": "09d40136",
   "metadata": {},
   "source": [
    "# Exercices de drills \n",
    "\n",
    "## Exercice 1 \n",
    "\n",
    "1. Create a variable age that contains value 42"
   ]
  },
  {
   "cell_type": "code",
   "execution_count": 1,
   "id": "c5d516c4",
   "metadata": {},
   "outputs": [
    {
     "name": "stdout",
     "output_type": "stream",
     "text": [
      "42\n"
     ]
    }
   ],
   "source": [
    "age = 42\n",
    "print(age)"
   ]
  },
  {
   "cell_type": "markdown",
   "id": "ab9cdce6",
   "metadata": {},
   "source": [
    "2. Adds 10 to variable age"
   ]
  },
  {
   "cell_type": "code",
   "execution_count": 4,
   "id": "46b703a9",
   "metadata": {},
   "outputs": [
    {
     "name": "stdout",
     "output_type": "stream",
     "text": [
      "52\n"
     ]
    }
   ],
   "source": [
    "age = age+10\n",
    "print(age)"
   ]
  },
  {
   "cell_type": "markdown",
   "id": "8fd04f90",
   "metadata": {},
   "source": [
    "3. Create a variable divAge and assign it the value of the age divided by 7"
   ]
  },
  {
   "cell_type": "code",
   "execution_count": 6,
   "id": "68a27e3e",
   "metadata": {},
   "outputs": [
    {
     "name": "stdout",
     "output_type": "stream",
     "text": [
      "7\n"
     ]
    }
   ],
   "source": [
    "divAge = age // 7\n",
    "print(divAge)"
   ]
  },
  {
   "cell_type": "markdown",
   "id": "8b01251f",
   "metadata": {},
   "source": [
    "4. Create a variable textDiv that contains the character string \"42 divided by 7 is equal 7\"."
   ]
  },
  {
   "cell_type": "code",
   "execution_count": 7,
   "id": "a1d1edab",
   "metadata": {},
   "outputs": [
    {
     "name": "stdout",
     "output_type": "stream",
     "text": [
      "42 divided by 7 is equal 7\n"
     ]
    }
   ],
   "source": [
    "textDiv = \"42 divided by 7 is equal 7\"\n",
    "print(textDiv)"
   ]
  },
  {
   "cell_type": "markdown",
   "id": "374ccb85",
   "metadata": {},
   "source": [
    "5. Create a variable restDiv that contains the rest of the variable age divided by 7"
   ]
  },
  {
   "cell_type": "code",
   "execution_count": 8,
   "id": "7b0d2855",
   "metadata": {},
   "outputs": [
    {
     "name": "stdout",
     "output_type": "stream",
     "text": [
      "3\n"
     ]
    }
   ],
   "source": [
    "restDiv = age % 7\n",
    "print(restDiv)"
   ]
  },
  {
   "cell_type": "markdown",
   "id": "050d10a7",
   "metadata": {},
   "source": [
    "6. Create a variable expDiv that contains the value of restDiv exponent 3"
   ]
  },
  {
   "cell_type": "code",
   "execution_count": 9,
   "id": "cf97450a",
   "metadata": {},
   "outputs": [
    {
     "name": "stdout",
     "output_type": "stream",
     "text": [
      "27\n"
     ]
    }
   ],
   "source": [
    "expDiv = restDiv ** 3\n",
    "print(expDiv)"
   ]
  },
  {
   "cell_type": "markdown",
   "id": "7bb493e1",
   "metadata": {},
   "source": [
    "7. Write a program that enters an integer and then displays the value entered and its type."
   ]
  },
  {
   "cell_type": "code",
   "execution_count": 2,
   "id": "e900e810",
   "metadata": {},
   "outputs": [
    {
     "name": "stdout",
     "output_type": "stream",
     "text": [
      "42 <class 'str'>\n"
     ]
    }
   ],
   "source": [
    "test = input(\"Enter something :\")\n",
    "\n",
    "print(test, type(test))"
   ]
  },
  {
   "cell_type": "markdown",
   "id": "35445292",
   "metadata": {},
   "source": [
    "## Exercice 2 \n",
    "\n",
    "Write a program that enters an integer and then displays the value entered and its type."
   ]
  },
  {
   "cell_type": "code",
   "execution_count": 13,
   "id": "7f4e85c2",
   "metadata": {},
   "outputs": [
    {
     "name": "stdout",
     "output_type": "stream",
     "text": [
      "The type of  52  is  <class 'int'>\n"
     ]
    }
   ],
   "source": [
    "print(\"The type of \", age, \" is \", type(age))"
   ]
  },
  {
   "cell_type": "markdown",
   "id": "0e334556",
   "metadata": {},
   "source": [
    "## Exercice 3 \n",
    "\n",
    "Use variables to represent the price of materials.\n",
    "\n",
    "    2 bottles of milk at €0.45 each\n",
    "    3 bottles of raw cider at €3.85 each\n",
    "    1 bag of flour at 0.9 €\n",
    "    1 packet of butter at €0.77\n",
    "    1 jar of nutella at €1.87\n",
    "\n",
    "Calculate the sum of all items and store it in a orderPrice variable\n"
   ]
  },
  {
   "cell_type": "code",
   "execution_count": 15,
   "id": "eb8a7a6b",
   "metadata": {},
   "outputs": [
    {
     "name": "stdout",
     "output_type": "stream",
     "text": [
      "60.81 €\n"
     ]
    }
   ],
   "source": [
    "milk = 0.45**2\n",
    "cider = 3.85**3\n",
    "flour = 0.9\n",
    "butter = 0.77\n",
    "nutella = 1.87\n",
    "\n",
    "orderPrice = milk + cider + flour + butter + nutella\n",
    "print(round(orderPrice,2), \"€\")"
   ]
  },
  {
   "cell_type": "markdown",
   "id": "bf185f81",
   "metadata": {},
   "source": [
    "## Exercice 4 \n",
    "\n",
    "Write a program that asks you to enter 2 values and displays the smallest of the 2 values"
   ]
  },
  {
   "cell_type": "code",
   "execution_count": 20,
   "id": "22f1744a",
   "metadata": {},
   "outputs": [
    {
     "name": "stdout",
     "output_type": "stream",
     "text": [
      "Enter first number  : 5\n",
      "Enter second number : 18\n",
      "The smallest number is  5\n"
     ]
    }
   ],
   "source": [
    "a = int(input('Enter first number  : '))\n",
    "b = int(input('Enter second number : '))\n",
    "\n",
    "if a < b :\n",
    "    print(\"The smallest number is \", a)\n",
    "else :\n",
    "    print(\"The smallest number is\", b)"
   ]
  },
  {
   "cell_type": "markdown",
   "id": "fb8dee47",
   "metadata": {},
   "source": [
    "Write a script that asks you to enter 2 strings and displays the largest of the 2 strings (the one with the most characters)."
   ]
  },
  {
   "cell_type": "code",
   "execution_count": 22,
   "id": "47f97483",
   "metadata": {},
   "outputs": [
    {
     "name": "stdout",
     "output_type": "stream",
     "text": [
      "Enter first string  : Javascript\n",
      "Enter second string : Python\n",
      "The largest string is  Javascript\n"
     ]
    }
   ],
   "source": [
    "a = input('Enter first string  : ')\n",
    "b = input('Enter second string : ')\n",
    "\n",
    "if len(a) > len(b) :\n",
    "    print(\"The largest string is \", a)\n",
    "else :\n",
    "    print(\"The largest string is\", b)"
   ]
  },
  {
   "cell_type": "markdown",
   "id": "e32a358d",
   "metadata": {},
   "source": [
    "## Exercice 5 \n",
    "\n",
    "Check if the variable name is in the studentsTuring list. (Without making a loop)\n",
    "\n",
    "    * If the name is in the list, display \"You are at the turing's\".\n",
    "    * Otherwise display: \"You are not part of the turing's\""
   ]
  },
  {
   "cell_type": "code",
   "execution_count": 24,
   "id": "d6258497",
   "metadata": {},
   "outputs": [
    {
     "name": "stdout",
     "output_type": "stream",
     "text": [
      "You are not at the turing's\n"
     ]
    }
   ],
   "source": [
    "studentsTuring = [\"Redouane\", \"Justine\", \"Ruben\", \"Edouard\"]\n",
    "name = \"Julie\"\n",
    "\n",
    "if name in studentsTuring:\n",
    "    print(\"You are at the turing's\")\n",
    "else:\n",
    "    print(\"You are not at the turing's\")"
   ]
  },
  {
   "cell_type": "code",
   "execution_count": null,
   "id": "2383c01c",
   "metadata": {},
   "outputs": [],
   "source": []
  }
 ],
 "metadata": {
  "interpreter": {
   "hash": "518df85176dc903001e240dfab35f20deafd1fca3124599f5bbdfe0886f12d17"
  },
  "kernelspec": {
   "display_name": "Python 3.9.7 ('base')",
   "language": "python",
   "name": "python3"
  },
  "language_info": {
   "codemirror_mode": {
    "name": "ipython",
    "version": 3
   },
   "file_extension": ".py",
   "mimetype": "text/x-python",
   "name": "python",
   "nbconvert_exporter": "python",
   "pygments_lexer": "ipython3",
   "version": "3.9.7"
  }
 },
 "nbformat": 4,
 "nbformat_minor": 5
}
